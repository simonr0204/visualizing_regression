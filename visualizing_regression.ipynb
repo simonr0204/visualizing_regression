{
 "cells": [
  {
   "cell_type": "markdown",
   "metadata": {},
   "source": [
    "## Visualizing linear regression\n",
    "\n",
    "Using matplotlib and ipython's interactive sliders to make a tool for visualizing linear regression and the mean squared error  \n",
    "  \n",
    "n.b. Interactive functionality is commented out so that plots show on github (end of cell 3)"
   ]
  },
  {
   "cell_type": "code",
   "execution_count": 1,
   "metadata": {},
   "outputs": [],
   "source": [
    "from matplotlib import pyplot as plt\n",
    "from matplotlib.patches import Rectangle\n",
    "from random import random\n",
    "from ipywidgets import interact"
   ]
  },
  {
   "cell_type": "markdown",
   "metadata": {},
   "source": [
    "Create some artificial data points with a linear relation (and some noise)"
   ]
  },
  {
   "cell_type": "code",
   "execution_count": 2,
   "metadata": {},
   "outputs": [],
   "source": [
    "xs = list(range(30))\n",
    "ys = [x*0.6 + (5*random() + 3) for x in xs]"
   ]
  },
  {
   "cell_type": "markdown",
   "metadata": {},
   "source": [
    "Draw a scatter plot of the points, along with a fit line and the residuals as squares:"
   ]
  },
  {
   "cell_type": "code",
   "execution_count": 3,
   "metadata": {},
   "outputs": [
    {
     "name": "stdout",
     "output_type": "stream",
     "text": [
      "Play with the sliders to minimize: \n",
      "\n",
      "              * the total shaded area = 61.615081538142654\n",
      "\n",
      "              * the average square area (mean square error) = 2.0538360512714218\n"
     ]
    },
    {
     "data": {
      "image/png": "[encoded data removed]",
      "text/plain": [
       "<Figure size 720x720 with 1 Axes>"
      ]
     },
     "metadata": {
      "needs_background": "light"
     },
     "output_type": "display_data"
    }
   ],
   "source": [
    "def draw_fit(w,b):\n",
    "    \n",
    "    fig,ax = plt.subplots(figsize=(10, 10))\n",
    "    plt.scatter(xs, ys, marker='x', s=20)   #Draw scatter plot of points\n",
    "    predictions = [(x*w)+b for x in xs]\n",
    "    plt.plot(xs, predictions)    #Draw line y=wx*b\n",
    "    plt.xlim(0,30)\n",
    "    plt.ylim(0,30)\n",
    "    plt.xlabel('x')\n",
    "    plt.ylabel('y')\n",
    "    \n",
    "    residuals = [y - p for y, p in zip(ys, predictions)] #Plot squares from each point with side length = residual\n",
    "    for i, (x,y) in enumerate(zip(xs,ys)):\n",
    "        err = residuals[i]\n",
    "        rect = Rectangle((x-err,y-err), err, err, angle=0.0, alpha = 0.3, linewidth = 10.) #Always draw square towards fit line\n",
    "        ax.add_patch(rect)\n",
    "    \n",
    "    squares = [r*r for r in residuals] #Calculate total sum of squares error\n",
    "    print(f'''Play with the sliders to minimize: \\n\n",
    "              * the total shaded area = {sum(squares)}\\n\n",
    "              * the average square area (mean square error) = {sum(squares)/len(squares)}''')  #MSE\n",
    "\n",
    "#Interact does not work with github so call plot for one set of values:\n",
    "draw_fit(w=0.55, b=6)\n",
    "#interact(draw_fit, w=(-1,2,0.001), b=(-2,15, 0.001));"
   ]
  },
  {
   "cell_type": "markdown",
   "metadata": {},
   "source": [
    "Now calculating optimal w and b: "
   ]
  },
  {
   "cell_type": "code",
   "execution_count": 4,
   "metadata": {},
   "outputs": [
    {
     "name": "stdout",
     "output_type": "stream",
     "text": [
      "Best optimal value for w is 0.601\n",
      "Best optimal value for b is 5.529\n",
      "\n",
      "The minimum average area (mean squared error) is 1.794 \n"
     ]
    }
   ],
   "source": [
    "from sklearn.linear_model import LinearRegression\n",
    "import numpy as np\n",
    "lm = LinearRegression()  \n",
    "\n",
    "X_train = np.array(xs).reshape(-1, 1)\n",
    "y_train = np.array(ys).reshape(-1, 1)\n",
    "\n",
    "lm.fit(X_train,y_train)  \n",
    "\n",
    "predictions = lm.predict(X_train)\n",
    "\n",
    "print('Best optimal value for w is {:.3f}'.format(lm.coef_[0][0]))\n",
    "print('Best optimal value for b is {:.3f}'.format(lm.intercept_[0]))\n",
    "\n",
    "from sklearn import metrics   \n",
    "print('\\nThe minimum average area (mean squared error) is {:.3f} '.format(metrics.mean_squared_error(y_train, predictions)))"
   ]
  },
  {
   "cell_type": "code",
   "execution_count": null,
   "metadata": {},
   "outputs": [],
   "source": []
  }
 ],
 "metadata": {
  "kernelspec": {
   "display_name": "Python 3",
   "language": "python",
   "name": "python3"
  },
  "language_info": {
   "codemirror_mode": {
    "name": "ipython",
    "version": 3
   },
   "file_extension": ".py",
   "mimetype": "text/x-python",
   "name": "python",
   "nbconvert_exporter": "python",
   "pygments_lexer": "ipython3",
   "version": "3.7.0"
  }
 },
 "nbformat": 4,
 "nbformat_minor": 2
}
